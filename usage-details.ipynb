{
 "cells": [
  {
   "cell_type": "code",
   "execution_count": null,
   "id": "288fbc06-2068-40bd-8a58-c51aa11faf80",
   "metadata": {},
   "outputs": [],
   "source": [
    "import numpy\n",
    "import matplotlib.dates\n",
    "import matplotlib.pyplot\n",
    "import os\n",
    "import datetime\n",
    "\n",
    "%matplotlib inline\n",
    "matplotlib.style.use('ggplot')\n",
    "matplotlib.rcParams.update({'font.size': 12})\n",
    "matplotlib.rcParams.update({'xtick.labelsize': 'x-large'})\n",
    "matplotlib.rcParams.update({'xtick.major.size': '0'})\n",
    "matplotlib.rcParams.update({'ytick.labelsize': 'x-large'})\n",
    "matplotlib.rcParams.update({'ytick.major.size': '0'})"
   ]
  },
  {
   "cell_type": "code",
   "execution_count": null,
   "id": "99a7df93-ba48-4dc9-b66f-daae7e9d2d80",
   "metadata": {},
   "outputs": [],
   "source": [
    "YEAR = 2023\n",
    "SECONDS_PER_BIN = 1800\n",
    "year_start = datetime.datetime(year=YEAR, month=1, day=1).timestamp()\n",
    "year_end = datetime.datetime(year=YEAR+1, month=1, day=1).timestamp()"
   ]
  },
  {
   "cell_type": "code",
   "execution_count": null,
   "id": "0bc092af-eb44-4b08-8a4f-5a62d7954e3e",
   "metadata": {},
   "outputs": [],
   "source": [
    "bins = int((year_end - year_start) / SECONDS_PER_BIN)\n",
    "span = (year_start, year_end)\n",
    "total_active, t = numpy.histogram([0], bins=bins, range=span)\n",
    "\n",
    "for entry in os.scandir(path='activity-logs'):\n",
    "    if entry.is_file():\n",
    "        active_times = numpy.genfromtxt(fname=entry.path, dtype=numpy.int64)\n",
    "        active, t = numpy.histogram(active_times, bins=bins, range=span)\n",
    "        active[active > 1] = 1\n",
    "        total_active += active\n",
    "\n",
    "t = t[:-1]"
   ]
  },
  {
   "cell_type": "code",
   "execution_count": null,
   "id": "fdf9a161-49c6-4ffb-9313-d3120caae242",
   "metadata": {},
   "outputs": [],
   "source": [
    "fig = matplotlib.figure.Figure(figsize=(10, 6.18), dpi=100)\n",
    "ax = fig.add_subplot()\n",
    "total_hours = numpy.cumsum(total_active) * SECONDS_PER_BIN / 3600\n",
    "ax.plot((t - year_start)/3600/24, total_hours)\n",
    "fig"
   ]
  },
  {
   "cell_type": "code",
   "execution_count": null,
   "id": "dcb311d9-a04b-4fd6-b784-fd62b2393e9a",
   "metadata": {},
   "outputs": [],
   "source": [
    "d = numpy.nonzero(total_active)[0]\n",
    "print(\"Average node-hours per day:\", total_hours[d[-1]] / ((t[d[-1]] - t[d[0]]) / 3600 / 24))"
   ]
  }
 ],
 "metadata": {
  "kernelspec": {
   "display_name": "Python 3 (ipykernel)",
   "language": "python",
   "name": "python3"
  },
  "language_info": {
   "codemirror_mode": {
    "name": "ipython",
    "version": 3
   },
   "file_extension": ".py",
   "mimetype": "text/x-python",
   "name": "python",
   "nbconvert_exporter": "python",
   "pygments_lexer": "ipython3",
   "version": "3.11.6"
  }
 },
 "nbformat": 4,
 "nbformat_minor": 5
}
